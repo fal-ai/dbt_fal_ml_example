{
 "cells": [
  {
   "cell_type": "markdown",
   "id": "37a53203",
   "metadata": {},
   "source": [
    "# Training a simple logistic regression model with dbt and fal"
   ]
  },
  {
   "cell_type": "markdown",
   "id": "be2fd420",
   "metadata": {},
   "source": [
    "This notebook showcases how you can you fal and dbt to build a machine learning model and deploy it in your dbt pipeline."
   ]
  },
  {
   "cell_type": "markdown",
   "id": "b663eaab",
   "metadata": {},
   "source": [
    "We start by installing the dependencies."
   ]
  },
  {
   "cell_type": "code",
   "execution_count": null,
   "id": "61facbe8",
   "metadata": {
    "scrolled": true
   },
   "outputs": [],
   "source": [
    "!pip install -r ../requirements.txt"
   ]
  },
  {
   "cell_type": "markdown",
   "id": "d9d4f836",
   "metadata": {},
   "source": [
    "Next, we use `dbt seed` to load raw data onto the data warehouse."
   ]
  },
  {
   "cell_type": "code",
   "execution_count": null,
   "id": "c2c141b1",
   "metadata": {},
   "outputs": [],
   "source": [
    "!dbt seed --profiles-dir .."
   ]
  },
  {
   "cell_type": "markdown",
   "id": "0efdfc0f",
   "metadata": {},
   "source": [
    "Now we can run our dbt models."
   ]
  },
  {
   "cell_type": "code",
   "execution_count": null,
   "id": "ae1e1da6",
   "metadata": {},
   "outputs": [],
   "source": [
    "!dbt run -s customer_orders customer_orders_labeled --profiles-dir .."
   ]
  },
  {
   "cell_type": "markdown",
   "id": "7fae6b18",
   "metadata": {},
   "source": [
    "In this next cell, we import all the necessary modules."
   ]
  },
  {
   "cell_type": "code",
   "execution_count": null,
   "id": "5e3b2a9b",
   "metadata": {},
   "outputs": [],
   "source": [
    "from fal import FalDbt"
   ]
  },
  {
   "cell_type": "markdown",
   "id": "92ce35ee",
   "metadata": {},
   "source": [
    "Initialize FalDbt:"
   ]
  },
  {
   "cell_type": "code",
   "execution_count": null,
   "id": "b2d64bd9",
   "metadata": {},
   "outputs": [],
   "source": [
    "faldbt = FalDbt(project_dir=\"..\", profiles_dir=\"..\")"
   ]
  },
  {
   "cell_type": "markdown",
   "id": "a12c0365",
   "metadata": {},
   "source": [
    "## Part 1: Training a new machine learning model"
   ]
  },
  {
   "cell_type": "markdown",
   "id": "174b8f56",
   "metadata": {},
   "source": [
    "Downloading the `customer_orders_labeled` model as a pandas DataFrame and printing the top rows of this DataFrame."
   ]
  },
  {
   "cell_type": "code",
   "execution_count": null,
   "id": "8ec5ab3f",
   "metadata": {},
   "outputs": [],
   "source": [
    "orders_df = faldbt.ref(\"customer_orders_labeled\")\n",
    "orders_df.head()"
   ]
  },
  {
   "cell_type": "code",
   "execution_count": null,
   "id": "3bbe196a",
   "metadata": {},
   "outputs": [],
   "source": [
    "print('Summary statistics:\\n', orders_df.describe())"
   ]
  },
  {
   "cell_type": "markdown",
   "id": "df617e07",
   "metadata": {},
   "source": [
    "Let's plot a sample from this DataFrame to see what our data actually looks like. Red dots should represent order that were returned and blue dots are the ones that were not returned."
   ]
  },
  {
   "cell_type": "code",
   "execution_count": null,
   "id": "b738cf0c",
   "metadata": {},
   "outputs": [],
   "source": [
    "import matplotlib.pyplot as plt\n",
    "# Sample data for plot\n",
    "plot_data = orders_df.sample(frac=0.1, random_state=123)\n",
    "\n",
    "colors = ['red' if r else 'blue' for r in plot_data['return']]  # assign colors based on whether or not order was returned\n",
    "\n",
    "plt.scatter(plot_data['age'], plot_data['total_price'], c=colors)\n",
    "plt.xlabel('Age')\n",
    "plt.ylabel('Total Price')\n",
    "plt.show()"
   ]
  },
  {
   "cell_type": "markdown",
   "id": "7ec8e65f",
   "metadata": {},
   "source": [
    "It's time now to train a simple logistic regression model. We use `LogisticRegression` class from scikit-learn."
   ]
  },
  {
   "cell_type": "code",
   "execution_count": null,
   "id": "175a873c",
   "metadata": {},
   "outputs": [],
   "source": [
    "from sklearn.linear_model import LogisticRegression\n",
    "from sklearn.model_selection import train_test_split\n",
    "from sklearn.metrics import classification_report\n",
    "\n",
    "# Train logistic regression model\n",
    "X = orders_df[['age', 'total_price']]\n",
    "y = orders_df['return']\n",
    "X_train, X_test, y_train, y_test = train_test_split(X, y, test_size=0.3, random_state=123)\n",
    "\n",
    "lr_model = LogisticRegression(random_state=123)\n",
    "lr_model.fit(X_train, y_train)\n",
    "\n",
    "# Test model\n",
    "y_pred = lr_model.predict(X_test)\n",
    "print(classification_report(y_test, y_pred))\n"
   ]
  },
  {
   "cell_type": "markdown",
   "id": "8e19219e",
   "metadata": {},
   "source": [
    "We can live with 86% accuracy."
   ]
  },
  {
   "cell_type": "markdown",
   "id": "5347021c",
   "metadata": {},
   "source": [
    "## Part 2: Making batch predictions with stored models\n",
    "We start this section by downloading the `customer_orders` models as a DataFrame and printing it's head."
   ]
  },
  {
   "cell_type": "code",
   "execution_count": null,
   "id": "1713904f",
   "metadata": {},
   "outputs": [],
   "source": [
    "orders_new_df = faldbt.ref(\"customer_orders\")\n",
    "\n",
    "orders_new_df.head()"
   ]
  },
  {
   "cell_type": "markdown",
   "id": "47319519",
   "metadata": {},
   "source": [
    "As we can see, `customer_orders` doesn't have the \"returned\" column. That's what we're trying to predict. We've put our model training code in `order_return_prediction_models` Python model. In this next cell, we download that model and pick the most accurate model."
   ]
  },
  {
   "cell_type": "code",
   "execution_count": null,
   "id": "e84701ab",
   "metadata": {},
   "outputs": [],
   "source": [
    "models_df = faldbt.ref(\"order_return_prediction_models\")\n",
    "best_model_df = models_df[models_df.accuracy == models_df.accuracy.max()]\n",
    "model_name = best_model_df.model_name[0]"
   ]
  },
  {
   "cell_type": "markdown",
   "id": "0b01f0d2",
   "metadata": {},
   "source": [
    "In our example, the ML models are stored in the `ml_models` directory. In production, you'll want to use a cloud storage provider, such as S3 or GCS. But here we load the target ML model by simply openning the file."
   ]
  },
  {
   "cell_type": "code",
   "execution_count": null,
   "id": "ab591df9",
   "metadata": {},
   "outputs": [],
   "source": [
    "import pickle\n",
    "\n",
    "with open(f\"../ml_models/{model_name}.pkl\", \"rb\") as f:\n",
    "    loaded_model = pickle.load(f)"
   ]
  },
  {
   "cell_type": "markdown",
   "id": "61e58a96",
   "metadata": {},
   "source": [
    "Finally, it's time to make some predictions:"
   ]
  },
  {
   "cell_type": "code",
   "execution_count": null,
   "id": "5fbb1c4d",
   "metadata": {},
   "outputs": [],
   "source": [
    "predictions = loaded_model.predict(orders_new_df[[\"age\", \"total_price\"]])\n",
    "orders_new_df[\"predicted_return\"] = predictions"
   ]
  },
  {
   "cell_type": "code",
   "execution_count": null,
   "id": "668c699f",
   "metadata": {},
   "outputs": [],
   "source": [
    "orders_new_df.sample(frac=0.5, random_state=123)"
   ]
  },
  {
   "cell_type": "markdown",
   "id": "44b55580",
   "metadata": {},
   "source": [
    "Let's plot our predictions, to see if they make sense:"
   ]
  },
  {
   "cell_type": "code",
   "execution_count": null,
   "id": "e02abcdb",
   "metadata": {},
   "outputs": [],
   "source": [
    "# Sample data for plot\n",
    "plot_data = orders_new_df.sample(frac=0.5, random_state=123)\n",
    "\n",
    "colors = ['red' if r else 'blue' for r in plot_data['predicted_return']]\n",
    "plt.scatter(plot_data['age'], plot_data['total_price'], c=colors)\n",
    "plt.xlabel('Age')\n",
    "plt.ylabel('Total Price')\n",
    "plt.show()"
   ]
  },
  {
   "cell_type": "markdown",
   "id": "c29d42c7",
   "metadata": {},
   "source": [
    "That seems about right!"
   ]
  },
  {
   "cell_type": "code",
   "execution_count": null,
   "id": "655bbb35",
   "metadata": {},
   "outputs": [],
   "source": [
    "new_df = faldbt.ref(\"order_return_predictions\")\n",
    "new_df.head()"
   ]
  },
  {
   "cell_type": "markdown",
   "id": "846481e7",
   "metadata": {},
   "source": [
    "## Part 3: Making single row predictions\n",
    "We can also write a function that accepts features and returns a label:"
   ]
  },
  {
   "cell_type": "code",
   "execution_count": null,
   "id": "fc61e06f",
   "metadata": {},
   "outputs": [],
   "source": [
    "def predict_return(age: float, total_price: float) -> bool:\n",
    "    import pandas as pd\n",
    "    df = pd.DataFrame({\"age\": [age], \"total_price\": [total_price]})\n",
    "    predictions = loaded_model.predict(df[[\"age\", \"total_price\"]])\n",
    "    return predictions[0] == 1"
   ]
  },
  {
   "cell_type": "markdown",
   "id": "d069e0c4",
   "metadata": {},
   "source": [
    "Now, making single predictions is easy:"
   ]
  },
  {
   "cell_type": "code",
   "execution_count": null,
   "id": "09fd3134",
   "metadata": {},
   "outputs": [],
   "source": [
    "predict_return(18.0, 400)"
   ]
  },
  {
   "cell_type": "markdown",
   "id": "ada98ec3",
   "metadata": {},
   "source": [
    "For more information about this example, see our [blog post](https://blog.fal.ai/build-and-deploy-machine-learning-models-from-jupyter-notebooks-with-fal-and-dbt/) that gives you a detailed walk through of both this notebook and then incorporating it's contents inside dbt Python models."
   ]
  }
 ],
 "metadata": {
  "kernelspec": {
   "display_name": "Python 3 (ipykernel)",
   "language": "python",
   "name": "python3"
  },
  "language_info": {
   "codemirror_mode": {
    "name": "ipython",
    "version": 3
   },
   "file_extension": ".py",
   "mimetype": "text/x-python",
   "name": "python",
   "nbconvert_exporter": "python",
   "pygments_lexer": "ipython3",
   "version": "3.10.9"
  }
 },
 "nbformat": 4,
 "nbformat_minor": 5
}
