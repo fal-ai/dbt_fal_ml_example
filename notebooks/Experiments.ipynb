{
 "cells": [
  {
   "cell_type": "markdown",
   "id": "37a53203",
   "metadata": {},
   "source": [
    "# Training a simple logistic regression model with dbt and fal"
   ]
  },
  {
   "cell_type": "markdown",
   "id": "be2fd420",
   "metadata": {},
   "source": [
    "This notebook showcases how you can you fal and dbt to build a machine learning model and deploy it in your dbt pipeline."
   ]
  },
  {
   "cell_type": "markdown",
   "id": "b663eaab",
   "metadata": {},
   "source": [
    "We start by installing the dependencies."
   ]
  },
  {
   "cell_type": "code",
   "execution_count": 2,
   "id": "61facbe8",
   "metadata": {
    "scrolled": true
   },
   "outputs": [
    {
     "name": "stdout",
     "output_type": "stream",
     "text": [
      "Requirement already satisfied: dbt-bigquery in /home/meder/etc/fal-ml-example/.venv/lib/python3.10/site-packages (from -r ../requirements.txt (line 1)) (1.4.1)\n",
      "Requirement already satisfied: dbt-fal[bigquery] in /home/meder/etc/fal-ml-example/.venv/lib/python3.10/site-packages (from -r ../requirements.txt (line 2)) (1.4.2)\n",
      "Requirement already satisfied: fal in /home/meder/etc/fal-ml-example/.venv/lib/python3.10/site-packages (from -r ../requirements.txt (line 3)) (0.8.1)\n",
      "Requirement already satisfied: jupyter in /home/meder/etc/fal-ml-example/.venv/lib/python3.10/site-packages (from -r ../requirements.txt (line 4)) (1.0.0)\n",
      "Requirement already satisfied: scikit-learn in /home/meder/etc/fal-ml-example/.venv/lib/python3.10/site-packages (from -r ../requirements.txt (line 5)) (1.2.1)\n",
      "Requirement already satisfied: matplotlib in /home/meder/etc/fal-ml-example/.venv/lib/python3.10/site-packages (from -r ../requirements.txt (line 6)) (3.7.1)\n",
      "Requirement already satisfied: google-cloud-bigquery~=3.0 in /home/meder/etc/fal-ml-example/.venv/lib/python3.10/site-packages (from dbt-bigquery->-r ../requirements.txt (line 1)) (3.5.0)\n",
      "Requirement already satisfied: googleapis-common-protos~=1.6 in /home/meder/etc/fal-ml-example/.venv/lib/python3.10/site-packages (from dbt-bigquery->-r ../requirements.txt (line 1)) (1.58.0)\n",
      "Requirement already satisfied: protobuf<4,>=3.13.0 in /home/meder/etc/fal-ml-example/.venv/lib/python3.10/site-packages (from dbt-bigquery->-r ../requirements.txt (line 1)) (3.20.3)\n",
      "Requirement already satisfied: agate<1.7,>=1.6.3 in /home/meder/etc/fal-ml-example/.venv/lib/python3.10/site-packages (from dbt-bigquery->-r ../requirements.txt (line 1)) (1.6.3)\n",
      "Requirement already satisfied: google-cloud-storage~=2.4 in /home/meder/etc/fal-ml-example/.venv/lib/python3.10/site-packages (from dbt-bigquery->-r ../requirements.txt (line 1)) (2.7.0)\n",
      "Requirement already satisfied: google-cloud-core~=2.0 in /home/meder/etc/fal-ml-example/.venv/lib/python3.10/site-packages (from dbt-bigquery->-r ../requirements.txt (line 1)) (2.3.2)\n",
      "Requirement already satisfied: google-cloud-dataproc~=5.0 in /home/meder/etc/fal-ml-example/.venv/lib/python3.10/site-packages (from dbt-bigquery->-r ../requirements.txt (line 1)) (5.4.0)\n",
      "Requirement already satisfied: dbt-core~=1.4.0 in /home/meder/etc/fal-ml-example/.venv/lib/python3.10/site-packages (from dbt-bigquery->-r ../requirements.txt (line 1)) (1.4.4)\n",
      "Requirement already satisfied: google-api-core~=2.0 in /home/meder/etc/fal-ml-example/.venv/lib/python3.10/site-packages (from dbt-bigquery->-r ../requirements.txt (line 1)) (2.11.0)\n",
      "Requirement already satisfied: koldstart<0.7.0,>=0.6.19 in /home/meder/etc/fal-ml-example/.venv/lib/python3.10/site-packages (from dbt-fal[bigquery]->-r ../requirements.txt (line 2)) (0.6.21)\n",
      "Requirement already satisfied: sqlalchemy<2.0.0,>=1.4.41 in /home/meder/etc/fal-ml-example/.venv/lib/python3.10/site-packages (from dbt-fal[bigquery]->-r ../requirements.txt (line 2)) (1.4.46)\n",
      "Requirement already satisfied: pandas<2.0.0,>=1.3.4 in /home/meder/etc/fal-ml-example/.venv/lib/python3.10/site-packages (from dbt-fal[bigquery]->-r ../requirements.txt (line 2)) (1.5.3)\n",
      "Requirement already satisfied: packaging<22 in /home/meder/etc/fal-ml-example/.venv/lib/python3.10/site-packages (from dbt-fal[bigquery]->-r ../requirements.txt (line 2)) (21.3)\n",
      "Requirement already satisfied: backports.functools_lru_cache<2.0.0,>=1.6.4 in /home/meder/etc/fal-ml-example/.venv/lib/python3.10/site-packages (from dbt-fal[bigquery]->-r ../requirements.txt (line 2)) (1.6.4)\n",
      "Requirement already satisfied: posthog<2.0.0,>=1.4.5 in /home/meder/etc/fal-ml-example/.venv/lib/python3.10/site-packages (from dbt-fal[bigquery]->-r ../requirements.txt (line 2)) (1.4.9)\n",
      "Requirement already satisfied: dill>=0.3.5.1 in /home/meder/etc/fal-ml-example/.venv/lib/python3.10/site-packages (from dbt-fal[bigquery]->-r ../requirements.txt (line 2)) (0.3.5.1)\n",
      "Requirement already satisfied: PyYAML<7.0,>=6.0 in /home/meder/etc/fal-ml-example/.venv/lib/python3.10/site-packages (from fal->-r ../requirements.txt (line 3)) (6.0)\n",
      "Requirement already satisfied: deprecation<3.0.0,>=2.1.0 in /home/meder/etc/fal-ml-example/.venv/lib/python3.10/site-packages (from fal->-r ../requirements.txt (line 3)) (2.1.0)\n",
      "Requirement already satisfied: astor<0.9.0,>=0.8.1 in /home/meder/etc/fal-ml-example/.venv/lib/python3.10/site-packages (from fal->-r ../requirements.txt (line 3)) (0.8.1)\n",
      "Requirement already satisfied: virtualenv<21.0.0,>=20.16.2 in /home/meder/etc/fal-ml-example/.venv/lib/python3.10/site-packages (from fal->-r ../requirements.txt (line 3)) (20.20.0)\n",
      "Requirement already satisfied: agate-sql<0.6.0,>=0.5.8 in /home/meder/etc/fal-ml-example/.venv/lib/python3.10/site-packages (from fal->-r ../requirements.txt (line 3)) (0.5.9)\n",
      "Requirement already satisfied: importlib-metadata<5.0.0,>=4.12.0 in /home/meder/etc/fal-ml-example/.venv/lib/python3.10/site-packages (from fal->-r ../requirements.txt (line 3)) (4.13.0)\n",
      "Requirement already satisfied: platformdirs<3.0.0,>=2.5.2 in /home/meder/etc/fal-ml-example/.venv/lib/python3.10/site-packages (from fal->-r ../requirements.txt (line 3)) (2.6.2)\n",
      "Requirement already satisfied: requests<3.0.0,>=2.27.1 in /home/meder/etc/fal-ml-example/.venv/lib/python3.10/site-packages (from fal->-r ../requirements.txt (line 3)) (2.28.2)\n",
      "Requirement already satisfied: ipykernel in /home/meder/etc/fal-ml-example/.venv/lib/python3.10/site-packages (from jupyter->-r ../requirements.txt (line 4)) (6.21.3)\n",
      "Requirement already satisfied: notebook in /home/meder/etc/fal-ml-example/.venv/lib/python3.10/site-packages (from jupyter->-r ../requirements.txt (line 4)) (6.5.3)\n",
      "Requirement already satisfied: ipywidgets in /home/meder/etc/fal-ml-example/.venv/lib/python3.10/site-packages (from jupyter->-r ../requirements.txt (line 4)) (8.0.4)\n",
      "Requirement already satisfied: jupyter-console in /home/meder/etc/fal-ml-example/.venv/lib/python3.10/site-packages (from jupyter->-r ../requirements.txt (line 4)) (6.6.3)\n",
      "Requirement already satisfied: qtconsole in /home/meder/etc/fal-ml-example/.venv/lib/python3.10/site-packages (from jupyter->-r ../requirements.txt (line 4)) (5.4.0)\n",
      "Requirement already satisfied: nbconvert in /home/meder/etc/fal-ml-example/.venv/lib/python3.10/site-packages (from jupyter->-r ../requirements.txt (line 4)) (7.2.9)\n",
      "Requirement already satisfied: numpy>=1.17.3 in /home/meder/etc/fal-ml-example/.venv/lib/python3.10/site-packages (from scikit-learn->-r ../requirements.txt (line 5)) (1.24.2)\n",
      "Requirement already satisfied: scipy>=1.3.2 in /home/meder/etc/fal-ml-example/.venv/lib/python3.10/site-packages (from scikit-learn->-r ../requirements.txt (line 5)) (1.10.1)\n",
      "Requirement already satisfied: joblib>=1.1.1 in /home/meder/etc/fal-ml-example/.venv/lib/python3.10/site-packages (from scikit-learn->-r ../requirements.txt (line 5)) (1.2.0)\n",
      "Requirement already satisfied: threadpoolctl>=2.0.0 in /home/meder/etc/fal-ml-example/.venv/lib/python3.10/site-packages (from scikit-learn->-r ../requirements.txt (line 5)) (3.1.0)\n",
      "Requirement already satisfied: kiwisolver>=1.0.1 in /home/meder/etc/fal-ml-example/.venv/lib/python3.10/site-packages (from matplotlib->-r ../requirements.txt (line 6)) (1.4.4)\n",
      "Requirement already satisfied: contourpy>=1.0.1 in /home/meder/etc/fal-ml-example/.venv/lib/python3.10/site-packages (from matplotlib->-r ../requirements.txt (line 6)) (1.0.7)\n",
      "Requirement already satisfied: cycler>=0.10 in /home/meder/etc/fal-ml-example/.venv/lib/python3.10/site-packages (from matplotlib->-r ../requirements.txt (line 6)) (0.11.0)\n",
      "Requirement already satisfied: fonttools>=4.22.0 in /home/meder/etc/fal-ml-example/.venv/lib/python3.10/site-packages (from matplotlib->-r ../requirements.txt (line 6)) (4.39.0)\n",
      "Requirement already satisfied: pyparsing>=2.3.1 in /home/meder/etc/fal-ml-example/.venv/lib/python3.10/site-packages (from matplotlib->-r ../requirements.txt (line 6)) (3.0.9)\n",
      "Requirement already satisfied: pillow>=6.2.0 in /home/meder/etc/fal-ml-example/.venv/lib/python3.10/site-packages (from matplotlib->-r ../requirements.txt (line 6)) (9.4.0)\n",
      "Requirement already satisfied: python-dateutil>=2.7 in /home/meder/etc/fal-ml-example/.venv/lib/python3.10/site-packages (from matplotlib->-r ../requirements.txt (line 6)) (2.8.2)\n"
     ]
    },
    {
     "name": "stdout",
     "output_type": "stream",
     "text": [
      "Requirement already satisfied: six>=1.9.0 in /home/meder/etc/fal-ml-example/.venv/lib/python3.10/site-packages (from agate<1.7,>=1.6.3->dbt-bigquery->-r ../requirements.txt (line 1)) (1.16.0)\n",
      "Requirement already satisfied: isodate>=0.5.4 in /home/meder/etc/fal-ml-example/.venv/lib/python3.10/site-packages (from agate<1.7,>=1.6.3->dbt-bigquery->-r ../requirements.txt (line 1)) (0.6.1)\n",
      "Requirement already satisfied: python-slugify>=1.2.1 in /home/meder/etc/fal-ml-example/.venv/lib/python3.10/site-packages (from agate<1.7,>=1.6.3->dbt-bigquery->-r ../requirements.txt (line 1)) (8.0.1)\n",
      "Requirement already satisfied: parsedatetime!=2.5,!=2.6,>=2.1 in /home/meder/etc/fal-ml-example/.venv/lib/python3.10/site-packages (from agate<1.7,>=1.6.3->dbt-bigquery->-r ../requirements.txt (line 1)) (2.4)\n",
      "Requirement already satisfied: pytimeparse>=1.1.5 in /home/meder/etc/fal-ml-example/.venv/lib/python3.10/site-packages (from agate<1.7,>=1.6.3->dbt-bigquery->-r ../requirements.txt (line 1)) (1.1.8)\n",
      "Requirement already satisfied: leather>=0.3.2 in /home/meder/etc/fal-ml-example/.venv/lib/python3.10/site-packages (from agate<1.7,>=1.6.3->dbt-bigquery->-r ../requirements.txt (line 1)) (0.3.4)\n",
      "Requirement already satisfied: Babel>=2.0 in /home/meder/etc/fal-ml-example/.venv/lib/python3.10/site-packages (from agate<1.7,>=1.6.3->dbt-bigquery->-r ../requirements.txt (line 1)) (2.12.1)\n",
      "Requirement already satisfied: minimal-snowplow-tracker==0.0.2 in /home/meder/etc/fal-ml-example/.venv/lib/python3.10/site-packages (from dbt-core~=1.4.0->dbt-bigquery->-r ../requirements.txt (line 1)) (0.0.2)\n",
      "Requirement already satisfied: dbt-extractor~=0.4.1 in /home/meder/etc/fal-ml-example/.venv/lib/python3.10/site-packages (from dbt-core~=1.4.0->dbt-bigquery->-r ../requirements.txt (line 1)) (0.4.1)\n",
      "Requirement already satisfied: networkx<3,>=2.3 in /home/meder/etc/fal-ml-example/.venv/lib/python3.10/site-packages (from dbt-core~=1.4.0->dbt-bigquery->-r ../requirements.txt (line 1)) (2.8.8)\n",
      "Requirement already satisfied: typing-extensions>=3.7.4 in /home/meder/etc/fal-ml-example/.venv/lib/python3.10/site-packages (from dbt-core~=1.4.0->dbt-bigquery->-r ../requirements.txt (line 1)) (4.4.0)\n",
      "Requirement already satisfied: logbook<1.6,>=1.5 in /home/meder/etc/fal-ml-example/.venv/lib/python3.10/site-packages (from dbt-core~=1.4.0->dbt-bigquery->-r ../requirements.txt (line 1)) (1.5.3)\n",
      "Requirement already satisfied: pathspec<0.11,>=0.9 in /home/meder/etc/fal-ml-example/.venv/lib/python3.10/site-packages (from dbt-core~=1.4.0->dbt-bigquery->-r ../requirements.txt (line 1)) (0.10.3)\n",
      "Requirement already satisfied: cffi<2.0.0,>=1.9 in /home/meder/etc/fal-ml-example/.venv/lib/python3.10/site-packages (from dbt-core~=1.4.0->dbt-bigquery->-r ../requirements.txt (line 1)) (1.15.1)\n",
      "Requirement already satisfied: idna<4,>=2.5 in /home/meder/etc/fal-ml-example/.venv/lib/python3.10/site-packages (from dbt-core~=1.4.0->dbt-bigquery->-r ../requirements.txt (line 1)) (3.4)\n",
      "Requirement already satisfied: werkzeug<3,>=1 in /home/meder/etc/fal-ml-example/.venv/lib/python3.10/site-packages (from dbt-core~=1.4.0->dbt-bigquery->-r ../requirements.txt (line 1)) (2.2.3)\n",
      "Requirement already satisfied: mashumaro[msgpack]==3.3.1 in /home/meder/etc/fal-ml-example/.venv/lib/python3.10/site-packages (from dbt-core~=1.4.0->dbt-bigquery->-r ../requirements.txt (line 1)) (3.3.1)\n",
      "Requirement already satisfied: click<9,>=7.0 in /home/meder/etc/fal-ml-example/.venv/lib/python3.10/site-packages (from dbt-core~=1.4.0->dbt-bigquery->-r ../requirements.txt (line 1)) (8.1.3)\n",
      "Requirement already satisfied: colorama<0.4.7,>=0.3.9 in /home/meder/etc/fal-ml-example/.venv/lib/python3.10/site-packages (from dbt-core~=1.4.0->dbt-bigquery->-r ../requirements.txt (line 1)) (0.4.6)\n",
      "Requirement already satisfied: betterproto==1.2.5 in /home/meder/etc/fal-ml-example/.venv/lib/python3.10/site-packages (from dbt-core~=1.4.0->dbt-bigquery->-r ../requirements.txt (line 1)) (1.2.5)\n",
      "Requirement already satisfied: pytz>=2015.7 in /home/meder/etc/fal-ml-example/.venv/lib/python3.10/site-packages (from dbt-core~=1.4.0->dbt-bigquery->-r ../requirements.txt (line 1)) (2022.7.1)\n",
      "Requirement already satisfied: Jinja2==3.1.2 in /home/meder/etc/fal-ml-example/.venv/lib/python3.10/site-packages (from dbt-core~=1.4.0->dbt-bigquery->-r ../requirements.txt (line 1)) (3.1.2)\n",
      "Requirement already satisfied: sqlparse<0.5,>=0.2.3 in /home/meder/etc/fal-ml-example/.venv/lib/python3.10/site-packages (from dbt-core~=1.4.0->dbt-bigquery->-r ../requirements.txt (line 1)) (0.4.3)\n",
      "Requirement already satisfied: hologram<=0.0.15,>=0.0.14 in /home/meder/etc/fal-ml-example/.venv/lib/python3.10/site-packages (from dbt-core~=1.4.0->dbt-bigquery->-r ../requirements.txt (line 1)) (0.0.15)\n",
      "Requirement already satisfied: stringcase in /home/meder/etc/fal-ml-example/.venv/lib/python3.10/site-packages (from betterproto==1.2.5->dbt-core~=1.4.0->dbt-bigquery->-r ../requirements.txt (line 1)) (1.2.0)\n",
      "Requirement already satisfied: grpclib in /home/meder/etc/fal-ml-example/.venv/lib/python3.10/site-packages (from betterproto==1.2.5->dbt-core~=1.4.0->dbt-bigquery->-r ../requirements.txt (line 1)) (0.4.3)\n",
      "Requirement already satisfied: MarkupSafe>=2.0 in /home/meder/etc/fal-ml-example/.venv/lib/python3.10/site-packages (from Jinja2==3.1.2->dbt-core~=1.4.0->dbt-bigquery->-r ../requirements.txt (line 1)) (2.1.2)\n",
      "Requirement already satisfied: msgpack>=0.5.6 in /home/meder/etc/fal-ml-example/.venv/lib/python3.10/site-packages (from mashumaro[msgpack]==3.3.1->dbt-core~=1.4.0->dbt-bigquery->-r ../requirements.txt (line 1)) (1.0.4)\n",
      "Requirement already satisfied: google-auth<3.0dev,>=2.14.1 in /home/meder/etc/fal-ml-example/.venv/lib/python3.10/site-packages (from google-api-core~=2.0->dbt-bigquery->-r ../requirements.txt (line 1)) (2.16.2)\n",
      "Requirement already satisfied: google-resumable-media<3.0dev,>=0.6.0 in /home/meder/etc/fal-ml-example/.venv/lib/python3.10/site-packages (from google-cloud-bigquery~=3.0->dbt-bigquery->-r ../requirements.txt (line 1)) (2.4.1)\n",
      "Requirement already satisfied: proto-plus<2.0.0dev,>=1.15.0 in /home/meder/etc/fal-ml-example/.venv/lib/python3.10/site-packages (from google-cloud-bigquery~=3.0->dbt-bigquery->-r ../requirements.txt (line 1)) (1.22.2)\n",
      "Requirement already satisfied: grpcio<2.0dev,>=1.47.0 in /home/meder/etc/fal-ml-example/.venv/lib/python3.10/site-packages (from google-cloud-bigquery~=3.0->dbt-bigquery->-r ../requirements.txt (line 1)) (1.51.3)\n",
      "Requirement already satisfied: db-dtypes<2.0.0dev,>=0.3.0 in /home/meder/etc/fal-ml-example/.venv/lib/python3.10/site-packages (from google-cloud-bigquery~=3.0->dbt-bigquery->-r ../requirements.txt (line 1)) (1.0.5)\n",
      "Requirement already satisfied: pyarrow>=3.0.0 in /home/meder/etc/fal-ml-example/.venv/lib/python3.10/site-packages (from google-cloud-bigquery~=3.0->dbt-bigquery->-r ../requirements.txt (line 1)) (11.0.0)\n",
      "Requirement already satisfied: grpc-google-iam-v1<1.0.0dev,>=0.12.4 in /home/meder/etc/fal-ml-example/.venv/lib/python3.10/site-packages (from google-cloud-dataproc~=5.0->dbt-bigquery->-r ../requirements.txt (line 1)) (0.12.6)\n",
      "Requirement already satisfied: zipp>=0.5 in /home/meder/etc/fal-ml-example/.venv/lib/python3.10/site-packages (from importlib-metadata<5.0.0,>=4.12.0->fal->-r ../requirements.txt (line 3)) (3.15.0)\n",
      "Requirement already satisfied: structlog<23.0.0,>=22.3.0 in /home/meder/etc/fal-ml-example/.venv/lib/python3.10/site-packages (from koldstart<0.7.0,>=0.6.19->dbt-fal[bigquery]->-r ../requirements.txt (line 2)) (22.3.0)\n",
      "Requirement already satisfied: isolate-proto<0.0.21,>=0.0.20 in /home/meder/etc/fal-ml-example/.venv/lib/python3.10/site-packages (from koldstart<0.7.0,>=0.6.19->dbt-fal[bigquery]->-r ../requirements.txt (line 2)) (0.0.20)\n",
      "Requirement already satisfied: isolate==0.10.0 in /home/meder/etc/fal-ml-example/.venv/lib/python3.10/site-packages (from koldstart<0.7.0,>=0.6.19->dbt-fal[bigquery]->-r ../requirements.txt (line 2)) (0.10.0)\n",
      "Requirement already satisfied: opentelemetry-api<2.0.0,>=1.15.0 in /home/meder/etc/fal-ml-example/.venv/lib/python3.10/site-packages (from koldstart<0.7.0,>=0.6.19->dbt-fal[bigquery]->-r ../requirements.txt (line 2)) (1.16.0)\n",
      "Requirement already satisfied: datadog-api-client<3.0.0,>=2.9.0 in /home/meder/etc/fal-ml-example/.venv/lib/python3.10/site-packages (from koldstart<0.7.0,>=0.6.19->dbt-fal[bigquery]->-r ../requirements.txt (line 2)) (2.10.0)\n"
     ]
    },
    {
     "name": "stdout",
     "output_type": "stream",
     "text": [
      "Requirement already satisfied: opentelemetry-sdk<2.0.0,>=1.15.0 in /home/meder/etc/fal-ml-example/.venv/lib/python3.10/site-packages (from koldstart<0.7.0,>=0.6.19->dbt-fal[bigquery]->-r ../requirements.txt (line 2)) (1.16.0)\n",
      "Requirement already satisfied: portalocker<3.0.0,>=2.7.0 in /home/meder/etc/fal-ml-example/.venv/lib/python3.10/site-packages (from koldstart<0.7.0,>=0.6.19->dbt-fal[bigquery]->-r ../requirements.txt (line 2)) (2.7.0)\n",
      "Requirement already satisfied: grpc-interceptor<0.16.0,>=0.15.0 in /home/meder/etc/fal-ml-example/.venv/lib/python3.10/site-packages (from koldstart<0.7.0,>=0.6.19->dbt-fal[bigquery]->-r ../requirements.txt (line 2)) (0.15.0)\n",
      "Requirement already satisfied: auth0-python<4.0.0,>=3.24.0 in /home/meder/etc/fal-ml-example/.venv/lib/python3.10/site-packages (from koldstart<0.7.0,>=0.6.19->dbt-fal[bigquery]->-r ../requirements.txt (line 2)) (3.24.1)\n",
      "Requirement already satisfied: tblib<2.0.0,>=1.7.0 in /home/meder/etc/fal-ml-example/.venv/lib/python3.10/site-packages (from isolate==0.10.0->koldstart<0.7.0,>=0.6.19->dbt-fal[bigquery]->-r ../requirements.txt (line 2)) (1.7.0)\n",
      "Requirement already satisfied: rich>=12.0 in /home/meder/etc/fal-ml-example/.venv/lib/python3.10/site-packages (from isolate==0.10.0->koldstart<0.7.0,>=0.6.19->dbt-fal[bigquery]->-r ../requirements.txt (line 2)) (13.3.2)\n",
      "Requirement already satisfied: backoff<2.0.0,>=1.10.0 in /home/meder/etc/fal-ml-example/.venv/lib/python3.10/site-packages (from posthog<2.0.0,>=1.4.5->dbt-fal[bigquery]->-r ../requirements.txt (line 2)) (1.11.1)\n",
      "Requirement already satisfied: monotonic>=1.5 in /home/meder/etc/fal-ml-example/.venv/lib/python3.10/site-packages (from posthog<2.0.0,>=1.4.5->dbt-fal[bigquery]->-r ../requirements.txt (line 2)) (1.6)\n",
      "Requirement already satisfied: urllib3<1.27,>=1.21.1 in /home/meder/etc/fal-ml-example/.venv/lib/python3.10/site-packages (from requests<3.0.0,>=2.27.1->fal->-r ../requirements.txt (line 3)) (1.26.14)\n",
      "Requirement already satisfied: certifi>=2017.4.17 in /home/meder/etc/fal-ml-example/.venv/lib/python3.10/site-packages (from requests<3.0.0,>=2.27.1->fal->-r ../requirements.txt (line 3)) (2022.12.7)\n",
      "Requirement already satisfied: charset-normalizer<4,>=2 in /home/meder/etc/fal-ml-example/.venv/lib/python3.10/site-packages (from requests<3.0.0,>=2.27.1->fal->-r ../requirements.txt (line 3)) (3.1.0)\n",
      "Requirement already satisfied: greenlet!=0.4.17 in /home/meder/etc/fal-ml-example/.venv/lib/python3.10/site-packages (from sqlalchemy<2.0.0,>=1.4.41->dbt-fal[bigquery]->-r ../requirements.txt (line 2)) (2.0.2)\n",
      "Requirement already satisfied: filelock<4,>=3.4.1 in /home/meder/etc/fal-ml-example/.venv/lib/python3.10/site-packages (from virtualenv<21.0.0,>=20.16.2->fal->-r ../requirements.txt (line 3)) (3.9.0)\n",
      "Requirement already satisfied: distlib<1,>=0.3.6 in /home/meder/etc/fal-ml-example/.venv/lib/python3.10/site-packages (from virtualenv<21.0.0,>=20.16.2->fal->-r ../requirements.txt (line 3)) (0.3.6)\n",
      "Requirement already satisfied: nest-asyncio in /home/meder/etc/fal-ml-example/.venv/lib/python3.10/site-packages (from ipykernel->jupyter->-r ../requirements.txt (line 4)) (1.5.6)\n",
      "Requirement already satisfied: comm>=0.1.1 in /home/meder/etc/fal-ml-example/.venv/lib/python3.10/site-packages (from ipykernel->jupyter->-r ../requirements.txt (line 4)) (0.1.2)\n",
      "Requirement already satisfied: psutil in /home/meder/etc/fal-ml-example/.venv/lib/python3.10/site-packages (from ipykernel->jupyter->-r ../requirements.txt (line 4)) (5.9.4)\n",
      "Requirement already satisfied: jupyter-core!=5.0.*,>=4.12 in /home/meder/etc/fal-ml-example/.venv/lib/python3.10/site-packages (from ipykernel->jupyter->-r ../requirements.txt (line 4)) (5.2.0)\n",
      "Requirement already satisfied: matplotlib-inline>=0.1 in /home/meder/etc/fal-ml-example/.venv/lib/python3.10/site-packages (from ipykernel->jupyter->-r ../requirements.txt (line 4)) (0.1.6)\n",
      "Requirement already satisfied: traitlets>=5.4.0 in /home/meder/etc/fal-ml-example/.venv/lib/python3.10/site-packages (from ipykernel->jupyter->-r ../requirements.txt (line 4)) (5.9.0)\n",
      "Requirement already satisfied: tornado>=6.1 in /home/meder/etc/fal-ml-example/.venv/lib/python3.10/site-packages (from ipykernel->jupyter->-r ../requirements.txt (line 4)) (6.2)\n",
      "Requirement already satisfied: pyzmq>=20 in /home/meder/etc/fal-ml-example/.venv/lib/python3.10/site-packages (from ipykernel->jupyter->-r ../requirements.txt (line 4)) (25.0.0)\n",
      "Requirement already satisfied: ipython>=7.23.1 in /home/meder/etc/fal-ml-example/.venv/lib/python3.10/site-packages (from ipykernel->jupyter->-r ../requirements.txt (line 4)) (8.11.0)\n",
      "Requirement already satisfied: jupyter-client>=6.1.12 in /home/meder/etc/fal-ml-example/.venv/lib/python3.10/site-packages (from ipykernel->jupyter->-r ../requirements.txt (line 4)) (8.0.3)\n",
      "Requirement already satisfied: debugpy>=1.6.5 in /home/meder/etc/fal-ml-example/.venv/lib/python3.10/site-packages (from ipykernel->jupyter->-r ../requirements.txt (line 4)) (1.6.6)\n",
      "Requirement already satisfied: widgetsnbextension~=4.0 in /home/meder/etc/fal-ml-example/.venv/lib/python3.10/site-packages (from ipywidgets->jupyter->-r ../requirements.txt (line 4)) (4.0.5)\n",
      "Requirement already satisfied: jupyterlab-widgets~=3.0 in /home/meder/etc/fal-ml-example/.venv/lib/python3.10/site-packages (from ipywidgets->jupyter->-r ../requirements.txt (line 4)) (3.0.5)\n",
      "Requirement already satisfied: prompt-toolkit>=3.0.30 in /home/meder/etc/fal-ml-example/.venv/lib/python3.10/site-packages (from jupyter-console->jupyter->-r ../requirements.txt (line 4)) (3.0.38)\n",
      "Requirement already satisfied: pygments in /home/meder/etc/fal-ml-example/.venv/lib/python3.10/site-packages (from jupyter-console->jupyter->-r ../requirements.txt (line 4)) (2.14.0)\n",
      "Requirement already satisfied: beautifulsoup4 in /home/meder/etc/fal-ml-example/.venv/lib/python3.10/site-packages (from nbconvert->jupyter->-r ../requirements.txt (line 4)) (4.11.2)\n",
      "Requirement already satisfied: mistune<3,>=2.0.3 in /home/meder/etc/fal-ml-example/.venv/lib/python3.10/site-packages (from nbconvert->jupyter->-r ../requirements.txt (line 4)) (2.0.5)\n",
      "Requirement already satisfied: jupyterlab-pygments in /home/meder/etc/fal-ml-example/.venv/lib/python3.10/site-packages (from nbconvert->jupyter->-r ../requirements.txt (line 4)) (0.2.2)\n",
      "Requirement already satisfied: bleach in /home/meder/etc/fal-ml-example/.venv/lib/python3.10/site-packages (from nbconvert->jupyter->-r ../requirements.txt (line 4)) (6.0.0)\n",
      "Requirement already satisfied: pandocfilters>=1.4.1 in /home/meder/etc/fal-ml-example/.venv/lib/python3.10/site-packages (from nbconvert->jupyter->-r ../requirements.txt (line 4)) (1.5.0)\n",
      "Requirement already satisfied: nbclient>=0.5.0 in /home/meder/etc/fal-ml-example/.venv/lib/python3.10/site-packages (from nbconvert->jupyter->-r ../requirements.txt (line 4)) (0.7.2)\n",
      "Requirement already satisfied: nbformat>=5.1 in /home/meder/etc/fal-ml-example/.venv/lib/python3.10/site-packages (from nbconvert->jupyter->-r ../requirements.txt (line 4)) (5.7.3)\n",
      "Requirement already satisfied: defusedxml in /home/meder/etc/fal-ml-example/.venv/lib/python3.10/site-packages (from nbconvert->jupyter->-r ../requirements.txt (line 4)) (0.7.1)\n",
      "Requirement already satisfied: tinycss2 in /home/meder/etc/fal-ml-example/.venv/lib/python3.10/site-packages (from nbconvert->jupyter->-r ../requirements.txt (line 4)) (1.2.1)\n",
      "Requirement already satisfied: nbclassic>=0.4.7 in /home/meder/etc/fal-ml-example/.venv/lib/python3.10/site-packages (from notebook->jupyter->-r ../requirements.txt (line 4)) (0.5.3)\n",
      "Requirement already satisfied: argon2-cffi in /home/meder/etc/fal-ml-example/.venv/lib/python3.10/site-packages (from notebook->jupyter->-r ../requirements.txt (line 4)) (21.3.0)\n",
      "Requirement already satisfied: prometheus-client in /home/meder/etc/fal-ml-example/.venv/lib/python3.10/site-packages (from notebook->jupyter->-r ../requirements.txt (line 4)) (0.16.0)\n",
      "Requirement already satisfied: terminado>=0.8.3 in /home/meder/etc/fal-ml-example/.venv/lib/python3.10/site-packages (from notebook->jupyter->-r ../requirements.txt (line 4)) (0.17.1)\n",
      "Requirement already satisfied: ipython-genutils in /home/meder/etc/fal-ml-example/.venv/lib/python3.10/site-packages (from notebook->jupyter->-r ../requirements.txt (line 4)) (0.2.0)\n",
      "Requirement already satisfied: Send2Trash>=1.8.0 in /home/meder/etc/fal-ml-example/.venv/lib/python3.10/site-packages (from notebook->jupyter->-r ../requirements.txt (line 4)) (1.8.0)\n"
     ]
    },
    {
     "name": "stdout",
     "output_type": "stream",
     "text": [
      "Requirement already satisfied: qtpy>=2.0.1 in /home/meder/etc/fal-ml-example/.venv/lib/python3.10/site-packages (from qtconsole->jupyter->-r ../requirements.txt (line 4)) (2.3.0)\n",
      "Requirement already satisfied: pyjwt[crypto]>=1.7.1 in /home/meder/etc/fal-ml-example/.venv/lib/python3.10/site-packages (from auth0-python<4.0.0,>=3.24.0->koldstart<0.7.0,>=0.6.19->dbt-fal[bigquery]->-r ../requirements.txt (line 2)) (2.6.0)\n",
      "Requirement already satisfied: pycparser in /home/meder/etc/fal-ml-example/.venv/lib/python3.10/site-packages (from cffi<2.0.0,>=1.9->dbt-core~=1.4.0->dbt-bigquery->-r ../requirements.txt (line 1)) (2.21)\n",
      "Requirement already satisfied: grpcio-status<2.0dev,>=1.33.2 in /home/meder/etc/fal-ml-example/.venv/lib/python3.10/site-packages (from google-api-core~=2.0->dbt-bigquery->-r ../requirements.txt (line 1)) (1.48.2)\n",
      "Requirement already satisfied: pyasn1-modules>=0.2.1 in /home/meder/etc/fal-ml-example/.venv/lib/python3.10/site-packages (from google-auth<3.0dev,>=2.14.1->google-api-core~=2.0->dbt-bigquery->-r ../requirements.txt (line 1)) (0.2.8)\n",
      "Requirement already satisfied: cachetools<6.0,>=2.0.0 in /home/meder/etc/fal-ml-example/.venv/lib/python3.10/site-packages (from google-auth<3.0dev,>=2.14.1->google-api-core~=2.0->dbt-bigquery->-r ../requirements.txt (line 1)) (5.3.0)\n",
      "Requirement already satisfied: rsa<5,>=3.1.4 in /home/meder/etc/fal-ml-example/.venv/lib/python3.10/site-packages (from google-auth<3.0dev,>=2.14.1->google-api-core~=2.0->dbt-bigquery->-r ../requirements.txt (line 1)) (4.9)\n",
      "Requirement already satisfied: google-crc32c<2.0dev,>=1.0 in /home/meder/etc/fal-ml-example/.venv/lib/python3.10/site-packages (from google-resumable-media<3.0dev,>=0.6.0->google-cloud-bigquery~=3.0->dbt-bigquery->-r ../requirements.txt (line 1)) (1.5.0)\n",
      "Requirement already satisfied: jsonschema<4.0,>=3.0 in /home/meder/etc/fal-ml-example/.venv/lib/python3.10/site-packages (from hologram<=0.0.15,>=0.0.14->dbt-core~=1.4.0->dbt-bigquery->-r ../requirements.txt (line 1)) (3.2.0)\n",
      "Requirement already satisfied: pickleshare in /home/meder/etc/fal-ml-example/.venv/lib/python3.10/site-packages (from ipython>=7.23.1->ipykernel->jupyter->-r ../requirements.txt (line 4)) (0.7.5)\n",
      "Requirement already satisfied: jedi>=0.16 in /home/meder/etc/fal-ml-example/.venv/lib/python3.10/site-packages (from ipython>=7.23.1->ipykernel->jupyter->-r ../requirements.txt (line 4)) (0.18.2)\n",
      "Requirement already satisfied: decorator in /home/meder/etc/fal-ml-example/.venv/lib/python3.10/site-packages (from ipython>=7.23.1->ipykernel->jupyter->-r ../requirements.txt (line 4)) (5.1.1)\n",
      "Requirement already satisfied: backcall in /home/meder/etc/fal-ml-example/.venv/lib/python3.10/site-packages (from ipython>=7.23.1->ipykernel->jupyter->-r ../requirements.txt (line 4)) (0.2.0)\n",
      "Requirement already satisfied: stack-data in /home/meder/etc/fal-ml-example/.venv/lib/python3.10/site-packages (from ipython>=7.23.1->ipykernel->jupyter->-r ../requirements.txt (line 4)) (0.6.2)\n",
      "Requirement already satisfied: pexpect>4.3 in /home/meder/etc/fal-ml-example/.venv/lib/python3.10/site-packages (from ipython>=7.23.1->ipykernel->jupyter->-r ../requirements.txt (line 4)) (4.8.0)\n",
      "Requirement already satisfied: jupyter-server>=1.8 in /home/meder/etc/fal-ml-example/.venv/lib/python3.10/site-packages (from nbclassic>=0.4.7->notebook->jupyter->-r ../requirements.txt (line 4)) (2.4.0)\n",
      "Requirement already satisfied: notebook-shim>=0.1.0 in /home/meder/etc/fal-ml-example/.venv/lib/python3.10/site-packages (from nbclassic>=0.4.7->notebook->jupyter->-r ../requirements.txt (line 4)) (0.2.2)\n",
      "Requirement already satisfied: fastjsonschema in /home/meder/etc/fal-ml-example/.venv/lib/python3.10/site-packages (from nbformat>=5.1->nbconvert->jupyter->-r ../requirements.txt (line 4)) (2.16.3)\n",
      "Requirement already satisfied: setuptools>=16.0 in /home/meder/etc/fal-ml-example/.venv/lib/python3.10/site-packages (from opentelemetry-api<2.0.0,>=1.15.0->koldstart<0.7.0,>=0.6.19->dbt-fal[bigquery]->-r ../requirements.txt (line 2)) (63.2.0)\n",
      "Requirement already satisfied: deprecated>=1.2.6 in /home/meder/etc/fal-ml-example/.venv/lib/python3.10/site-packages (from opentelemetry-api<2.0.0,>=1.15.0->koldstart<0.7.0,>=0.6.19->dbt-fal[bigquery]->-r ../requirements.txt (line 2)) (1.2.13)\n",
      "Requirement already satisfied: opentelemetry-semantic-conventions==0.37b0 in /home/meder/etc/fal-ml-example/.venv/lib/python3.10/site-packages (from opentelemetry-sdk<2.0.0,>=1.15.0->koldstart<0.7.0,>=0.6.19->dbt-fal[bigquery]->-r ../requirements.txt (line 2)) (0.37b0)\n",
      "Requirement already satisfied: future in /home/meder/etc/fal-ml-example/.venv/lib/python3.10/site-packages (from parsedatetime!=2.5,!=2.6,>=2.1->agate<1.7,>=1.6.3->dbt-bigquery->-r ../requirements.txt (line 1)) (0.18.3)\n",
      "Requirement already satisfied: wcwidth in /home/meder/etc/fal-ml-example/.venv/lib/python3.10/site-packages (from prompt-toolkit>=3.0.30->jupyter-console->jupyter->-r ../requirements.txt (line 4)) (0.2.6)\n",
      "Requirement already satisfied: text-unidecode>=1.3 in /home/meder/etc/fal-ml-example/.venv/lib/python3.10/site-packages (from python-slugify>=1.2.1->agate<1.7,>=1.6.3->dbt-bigquery->-r ../requirements.txt (line 1)) (1.3)\n",
      "Requirement already satisfied: ptyprocess in /home/meder/etc/fal-ml-example/.venv/lib/python3.10/site-packages (from terminado>=0.8.3->notebook->jupyter->-r ../requirements.txt (line 4)) (0.7.0)\n",
      "Requirement already satisfied: argon2-cffi-bindings in /home/meder/etc/fal-ml-example/.venv/lib/python3.10/site-packages (from argon2-cffi->notebook->jupyter->-r ../requirements.txt (line 4)) (21.2.0)\n",
      "Requirement already satisfied: soupsieve>1.2 in /home/meder/etc/fal-ml-example/.venv/lib/python3.10/site-packages (from beautifulsoup4->nbconvert->jupyter->-r ../requirements.txt (line 4)) (2.4)\n",
      "Requirement already satisfied: webencodings in /home/meder/etc/fal-ml-example/.venv/lib/python3.10/site-packages (from bleach->nbconvert->jupyter->-r ../requirements.txt (line 4)) (0.5.1)\n",
      "Requirement already satisfied: wrapt<2,>=1.10 in /home/meder/etc/fal-ml-example/.venv/lib/python3.10/site-packages (from deprecated>=1.2.6->opentelemetry-api<2.0.0,>=1.15.0->koldstart<0.7.0,>=0.6.19->dbt-fal[bigquery]->-r ../requirements.txt (line 2)) (1.15.0)\n",
      "Requirement already satisfied: parso<0.9.0,>=0.8.0 in /home/meder/etc/fal-ml-example/.venv/lib/python3.10/site-packages (from jedi>=0.16->ipython>=7.23.1->ipykernel->jupyter->-r ../requirements.txt (line 4)) (0.8.3)\n",
      "Requirement already satisfied: attrs>=17.4.0 in /home/meder/etc/fal-ml-example/.venv/lib/python3.10/site-packages (from jsonschema<4.0,>=3.0->hologram<=0.0.15,>=0.0.14->dbt-core~=1.4.0->dbt-bigquery->-r ../requirements.txt (line 1)) (22.2.0)\n",
      "Requirement already satisfied: pyrsistent>=0.14.0 in /home/meder/etc/fal-ml-example/.venv/lib/python3.10/site-packages (from jsonschema<4.0,>=3.0->hologram<=0.0.15,>=0.0.14->dbt-core~=1.4.0->dbt-bigquery->-r ../requirements.txt (line 1)) (0.19.3)\n",
      "Requirement already satisfied: anyio>=3.1.0 in /home/meder/etc/fal-ml-example/.venv/lib/python3.10/site-packages (from jupyter-server>=1.8->nbclassic>=0.4.7->notebook->jupyter->-r ../requirements.txt (line 4)) (3.6.2)\n",
      "Requirement already satisfied: jupyter-server-terminals in /home/meder/etc/fal-ml-example/.venv/lib/python3.10/site-packages (from jupyter-server>=1.8->nbclassic>=0.4.7->notebook->jupyter->-r ../requirements.txt (line 4)) (0.4.4)\n",
      "Requirement already satisfied: jupyter-events>=0.4.0 in /home/meder/etc/fal-ml-example/.venv/lib/python3.10/site-packages (from jupyter-server>=1.8->nbclassic>=0.4.7->notebook->jupyter->-r ../requirements.txt (line 4)) (0.6.3)\n",
      "Requirement already satisfied: websocket-client in /home/meder/etc/fal-ml-example/.venv/lib/python3.10/site-packages (from jupyter-server>=1.8->nbclassic>=0.4.7->notebook->jupyter->-r ../requirements.txt (line 4)) (1.5.1)\n",
      "Requirement already satisfied: pyasn1<0.5.0,>=0.4.6 in /home/meder/etc/fal-ml-example/.venv/lib/python3.10/site-packages (from pyasn1-modules>=0.2.1->google-auth<3.0dev,>=2.14.1->google-api-core~=2.0->dbt-bigquery->-r ../requirements.txt (line 1)) (0.4.8)\n",
      "Requirement already satisfied: cryptography>=3.4.0 in /home/meder/etc/fal-ml-example/.venv/lib/python3.10/site-packages (from pyjwt[crypto]>=1.7.1->auth0-python<4.0.0,>=3.24.0->koldstart<0.7.0,>=0.6.19->dbt-fal[bigquery]->-r ../requirements.txt (line 2)) (39.0.2)\n"
     ]
    },
    {
     "name": "stdout",
     "output_type": "stream",
     "text": [
      "Requirement already satisfied: markdown-it-py<3.0.0,>=2.2.0 in /home/meder/etc/fal-ml-example/.venv/lib/python3.10/site-packages (from rich>=12.0->isolate==0.10.0->koldstart<0.7.0,>=0.6.19->dbt-fal[bigquery]->-r ../requirements.txt (line 2)) (2.2.0)\n",
      "Requirement already satisfied: h2<5,>=3.1.0 in /home/meder/etc/fal-ml-example/.venv/lib/python3.10/site-packages (from grpclib->betterproto==1.2.5->dbt-core~=1.4.0->dbt-bigquery->-r ../requirements.txt (line 1)) (4.1.0)\n",
      "Requirement already satisfied: multidict in /home/meder/etc/fal-ml-example/.venv/lib/python3.10/site-packages (from grpclib->betterproto==1.2.5->dbt-core~=1.4.0->dbt-bigquery->-r ../requirements.txt (line 1)) (6.0.4)\n",
      "Requirement already satisfied: executing>=1.2.0 in /home/meder/etc/fal-ml-example/.venv/lib/python3.10/site-packages (from stack-data->ipython>=7.23.1->ipykernel->jupyter->-r ../requirements.txt (line 4)) (1.2.0)\n",
      "Requirement already satisfied: asttokens>=2.1.0 in /home/meder/etc/fal-ml-example/.venv/lib/python3.10/site-packages (from stack-data->ipython>=7.23.1->ipykernel->jupyter->-r ../requirements.txt (line 4)) (2.2.1)\n",
      "Requirement already satisfied: pure-eval in /home/meder/etc/fal-ml-example/.venv/lib/python3.10/site-packages (from stack-data->ipython>=7.23.1->ipykernel->jupyter->-r ../requirements.txt (line 4)) (0.2.2)\n",
      "Requirement already satisfied: sniffio>=1.1 in /home/meder/etc/fal-ml-example/.venv/lib/python3.10/site-packages (from anyio>=3.1.0->jupyter-server>=1.8->nbclassic>=0.4.7->notebook->jupyter->-r ../requirements.txt (line 4)) (1.3.0)\n",
      "Requirement already satisfied: hyperframe<7,>=6.0 in /home/meder/etc/fal-ml-example/.venv/lib/python3.10/site-packages (from h2<5,>=3.1.0->grpclib->betterproto==1.2.5->dbt-core~=1.4.0->dbt-bigquery->-r ../requirements.txt (line 1)) (6.0.1)\n",
      "Requirement already satisfied: hpack<5,>=4.0 in /home/meder/etc/fal-ml-example/.venv/lib/python3.10/site-packages (from h2<5,>=3.1.0->grpclib->betterproto==1.2.5->dbt-core~=1.4.0->dbt-bigquery->-r ../requirements.txt (line 1)) (4.0.0)\n",
      "Requirement already satisfied: python-json-logger>=2.0.4 in /home/meder/etc/fal-ml-example/.venv/lib/python3.10/site-packages (from jupyter-events>=0.4.0->jupyter-server>=1.8->nbclassic>=0.4.7->notebook->jupyter->-r ../requirements.txt (line 4)) (2.0.7)\n",
      "Requirement already satisfied: rfc3339-validator in /home/meder/etc/fal-ml-example/.venv/lib/python3.10/site-packages (from jupyter-events>=0.4.0->jupyter-server>=1.8->nbclassic>=0.4.7->notebook->jupyter->-r ../requirements.txt (line 4)) (0.1.4)\n",
      "Requirement already satisfied: rfc3986-validator>=0.1.1 in /home/meder/etc/fal-ml-example/.venv/lib/python3.10/site-packages (from jupyter-events>=0.4.0->jupyter-server>=1.8->nbclassic>=0.4.7->notebook->jupyter->-r ../requirements.txt (line 4)) (0.1.1)\n",
      "Requirement already satisfied: mdurl~=0.1 in /home/meder/etc/fal-ml-example/.venv/lib/python3.10/site-packages (from markdown-it-py<3.0.0,>=2.2.0->rich>=12.0->isolate==0.10.0->koldstart<0.7.0,>=0.6.19->dbt-fal[bigquery]->-r ../requirements.txt (line 2)) (0.1.2)\n",
      "\u001b[33mWARNING: jsonschema 3.2.0 does not provide the extra 'format-nongpl'\u001b[0m\u001b[33m\n",
      "\u001b[0m\n",
      "\u001b[1m[\u001b[0m\u001b[34;49mnotice\u001b[0m\u001b[1;39;49m]\u001b[0m\u001b[39;49m A new release of pip available: \u001b[0m\u001b[31;49m22.2.2\u001b[0m\u001b[39;49m -> \u001b[0m\u001b[32;49m23.0.1\u001b[0m\n",
      "\u001b[1m[\u001b[0m\u001b[34;49mnotice\u001b[0m\u001b[1;39;49m]\u001b[0m\u001b[39;49m To update, run: \u001b[0m\u001b[32;49mpip install --upgrade pip\u001b[0m\n"
     ]
    }
   ],
   "source": [
    "!pip install -r ../requirements.txt"
   ]
  },
  {
   "cell_type": "markdown",
   "id": "d9d4f836",
   "metadata": {},
   "source": [
    "Next, we use `dbt seed` to load raw data onto the data warehouse."
   ]
  },
  {
   "cell_type": "code",
   "execution_count": 124,
   "id": "c2c141b1",
   "metadata": {},
   "outputs": [
    {
     "name": "stdout",
     "output_type": "stream",
     "text": [
      "\u001b[0m12:35:30  Running with dbt=1.4.4\n",
      "\u001b[0m12:35:30  Found 2 models, 0 tests, 0 snapshots, 0 analyses, 341 macros, 0 operations, 2 seed files, 0 sources, 0 exposures, 0 metrics\n",
      "\u001b[0m12:35:30  \n",
      "\u001b[0m12:35:31  Concurrency: 1 threads (target='staging')\n",
      "\u001b[0m12:35:31  \n",
      "\u001b[0m12:35:31  1 of 2 START seed file dbt_meder.raw_customer_order_data ....................... [RUN]\n",
      "\u001b[0m12:35:37  1 of 2 OK loaded seed file dbt_meder.raw_customer_order_data ................... [\u001b[32mINSERT 50\u001b[0m in 5.39s]\n",
      "\u001b[0m12:35:37  2 of 2 START seed file dbt_meder.raw_customer_order_data_labeled ............... [RUN]\n",
      "\u001b[0m12:35:55  2 of 2 OK loaded seed file dbt_meder.raw_customer_order_data_labeled ........... [\u001b[32mINSERT 1000\u001b[0m in 18.58s]\n",
      "\u001b[0m12:35:55  \n",
      "\u001b[0m12:35:55  Finished running 2 seeds in 0 hours 0 minutes and 24.96 seconds (24.96s).\n",
      "\u001b[0m12:35:55  \n",
      "\u001b[0m12:35:55  \u001b[32mCompleted successfully\u001b[0m\n",
      "\u001b[0m12:35:55  \n",
      "\u001b[0m12:35:55  Done. PASS=2 WARN=0 ERROR=0 SKIP=0 TOTAL=2\n"
     ]
    }
   ],
   "source": [
    "!dbt seed --profiles-dir .."
   ]
  },
  {
   "cell_type": "markdown",
   "id": "0efdfc0f",
   "metadata": {},
   "source": [
    "Now we can run our dbt models."
   ]
  },
  {
   "cell_type": "code",
   "execution_count": 18,
   "id": "ae1e1da6",
   "metadata": {},
   "outputs": [],
   "source": [
    "!dbt run -s customer_orders customer_orders_labeled --profiles-dir .."
   ]
  },
  {
   "cell_type": "markdown",
   "id": "7fae6b18",
   "metadata": {},
   "source": [
    "In this next cell, we import all the necessary modules."
   ]
  },
  {
   "cell_type": "code",
   "execution_count": 5,
   "id": "5e3b2a9b",
   "metadata": {},
   "outputs": [],
   "source": [
    "from fal import FalDbt\n",
    "import matplotlib.pyplot as plt\n",
    "from sklearn.linear_model import LogisticRegression\n",
    "from sklearn.model_selection import train_test_split\n",
    "from sklearn.metrics import classification_report\n",
    "import pickle"
   ]
  },
  {
   "cell_type": "markdown",
   "id": "92ce35ee",
   "metadata": {},
   "source": [
    "Initialize FalDbt:"
   ]
  },
  {
   "cell_type": "code",
   "execution_count": 6,
   "id": "b2d64bd9",
   "metadata": {},
   "outputs": [
    {
     "name": "stdout",
     "output_type": "stream",
     "text": [
      "21:41:36  Found 4 models, 0 tests, 0 snapshots, 0 analyses, 341 macros, 0 operations, 2 seed files, 0 sources, 0 exposures, 0 metrics\n",
      "21:41:36 [fal]: [\u001b[33mWARNING\u001b[0m]: Could not read dbt sources artifact\n"
     ]
    }
   ],
   "source": [
    "faldbt = FalDbt(\"..\", \"..\")"
   ]
  },
  {
   "cell_type": "markdown",
   "id": "a12c0365",
   "metadata": {},
   "source": [
    "## Part 1: Training a new machine learning model"
   ]
  },
  {
   "cell_type": "markdown",
   "id": "174b8f56",
   "metadata": {},
   "source": [
    "Downloading the `customer_orders_labeled` model as a pandas DataFrame and printing the top rows of this DataFrame."
   ]
  },
  {
   "cell_type": "code",
   "execution_count": 10,
   "id": "8ec5ab3f",
   "metadata": {},
   "outputs": [
    {
     "data": {
      "text/html": [
       "<div>\n",
       "<style scoped>\n",
       "    .dataframe tbody tr th:only-of-type {\n",
       "        vertical-align: middle;\n",
       "    }\n",
       "\n",
       "    .dataframe tbody tr th {\n",
       "        vertical-align: top;\n",
       "    }\n",
       "\n",
       "    .dataframe thead th {\n",
       "        text-align: right;\n",
       "    }\n",
       "</style>\n",
       "<table border=\"1\" class=\"dataframe\">\n",
       "  <thead>\n",
       "    <tr style=\"text-align: right;\">\n",
       "      <th></th>\n",
       "      <th>order_id</th>\n",
       "      <th>customer_id</th>\n",
       "      <th>total_price</th>\n",
       "      <th>age</th>\n",
       "      <th>return</th>\n",
       "    </tr>\n",
       "  </thead>\n",
       "  <tbody>\n",
       "    <tr>\n",
       "      <th>0</th>\n",
       "      <td>210.0</td>\n",
       "      <td>488.0</td>\n",
       "      <td>187.861698</td>\n",
       "      <td>18.0</td>\n",
       "      <td>0.0</td>\n",
       "    </tr>\n",
       "    <tr>\n",
       "      <th>1</th>\n",
       "      <td>263.0</td>\n",
       "      <td>578.0</td>\n",
       "      <td>628.745330</td>\n",
       "      <td>18.0</td>\n",
       "      <td>0.0</td>\n",
       "    </tr>\n",
       "    <tr>\n",
       "      <th>2</th>\n",
       "      <td>360.0</td>\n",
       "      <td>578.0</td>\n",
       "      <td>99.154886</td>\n",
       "      <td>18.0</td>\n",
       "      <td>0.0</td>\n",
       "    </tr>\n",
       "    <tr>\n",
       "      <th>3</th>\n",
       "      <td>482.0</td>\n",
       "      <td>818.0</td>\n",
       "      <td>393.284591</td>\n",
       "      <td>18.0</td>\n",
       "      <td>0.0</td>\n",
       "    </tr>\n",
       "    <tr>\n",
       "      <th>4</th>\n",
       "      <td>594.0</td>\n",
       "      <td>656.0</td>\n",
       "      <td>339.542104</td>\n",
       "      <td>18.0</td>\n",
       "      <td>0.0</td>\n",
       "    </tr>\n",
       "  </tbody>\n",
       "</table>\n",
       "</div>"
      ],
      "text/plain": [
       "   order_id  customer_id  total_price   age  return\n",
       "0     210.0        488.0   187.861698  18.0     0.0\n",
       "1     263.0        578.0   628.745330  18.0     0.0\n",
       "2     360.0        578.0    99.154886  18.0     0.0\n",
       "3     482.0        818.0   393.284591  18.0     0.0\n",
       "4     594.0        656.0   339.542104  18.0     0.0"
      ]
     },
     "execution_count": 10,
     "metadata": {},
     "output_type": "execute_result"
    }
   ],
   "source": [
    "orders_df = faldbt.ref(\"customer_orders_labeled\")\n",
    "orders_df.head()"
   ]
  },
  {
   "cell_type": "code",
   "execution_count": 9,
   "id": "3bbe196a",
   "metadata": {},
   "outputs": [
    {
     "name": "stdout",
     "output_type": "stream",
     "text": [
      "Summary statistics:\n",
      "           order_id  customer_id  total_price         age       return\n",
      "count  1000.000000   1000.00000  1000.000000  1000.00000  1000.000000\n",
      "mean    499.500000    499.19500   508.766031    41.72000     0.203000\n",
      "std     288.819436    284.65704   289.078945    13.44933     0.402434\n",
      "min       0.000000      0.00000    12.121936    18.00000     0.000000\n",
      "25%     249.750000    251.00000   252.136277    31.00000     0.000000\n",
      "50%     499.500000    495.50000   499.654528    43.00000     0.000000\n",
      "75%     749.250000    740.00000   764.379751    53.00000     0.000000\n",
      "max     999.000000    999.00000   998.200204    64.00000     1.000000\n"
     ]
    }
   ],
   "source": [
    "print('Summary statistics:\\n', orders_df.describe())"
   ]
  },
  {
   "cell_type": "markdown",
   "id": "df617e07",
   "metadata": {},
   "source": [
    "Let's plot a sample from this DataFrame to see what our data actually looks like. Red dots should represent order that were returned and blue dots are the ones that were not returned."
   ]
  },
  {
   "cell_type": "code",
   "execution_count": 112,
   "id": "b738cf0c",
   "metadata": {},
   "outputs": [
    {
     "data": {
      "image/png": "[encoded data removed]",
      "text/plain": [
       "<Figure size 640x480 with 1 Axes>"
      ]
     },
     "metadata": {},
     "output_type": "display_data"
    }
   ],
   "source": [
    "# Sample data for plot\n",
    "plot_data = orders_df.sample(frac=0.1, random_state=123)\n",
    "\n",
    "colors = ['red' if r else 'blue' for r in plot_data['return']]  # assign colors based on whether or not order was returned\n",
    "\n",
    "plt.scatter(plot_data['age'], plot_data['total_price'], c=colors)\n",
    "plt.xlabel('Age')\n",
    "plt.ylabel('Total Price')\n",
    "plt.show()"
   ]
  },
  {
   "cell_type": "markdown",
   "id": "7ec8e65f",
   "metadata": {},
   "source": [
    "It's time now to train a simple logistic regression model. We use `LogisticRegression` class from scikit-learn."
   ]
  },
  {
   "cell_type": "code",
   "execution_count": 11,
   "id": "175a873c",
   "metadata": {},
   "outputs": [
    {
     "name": "stdout",
     "output_type": "stream",
     "text": [
      "              precision    recall  f1-score   support\n",
      "\n",
      "         0.0       0.87      0.97      0.91       227\n",
      "         1.0       0.85      0.53      0.66        73\n",
      "\n",
      "    accuracy                           0.86       300\n",
      "   macro avg       0.86      0.75      0.79       300\n",
      "weighted avg       0.86      0.86      0.85       300\n",
      "\n"
     ]
    }
   ],
   "source": [
    "# Train logistic regression model\n",
    "X = orders_df[['age', 'total_price']]\n",
    "y = orders_df['return']\n",
    "X_train, X_test, y_train, y_test = train_test_split(X, y, test_size=0.3, random_state=123)\n",
    "\n",
    "lr_model = LogisticRegression(random_state=123)\n",
    "lr_model.fit(X_train, y_train)\n",
    "\n",
    "# Test model\n",
    "y_pred = lr_model.predict(X_test)\n",
    "print(classification_report(y_test, y_pred))\n"
   ]
  },
  {
   "cell_type": "markdown",
   "id": "8e19219e",
   "metadata": {},
   "source": [
    "We can live with 0.86% accuracy."
   ]
  },
  {
   "cell_type": "markdown",
   "id": "5347021c",
   "metadata": {},
   "source": [
    "## Part 2: Making predictions with stored models\n",
    "We start this section by downloading the `customer_orders` models as a DataFrame and printing it's head."
   ]
  },
  {
   "cell_type": "code",
   "execution_count": 9,
   "id": "1713904f",
   "metadata": {},
   "outputs": [
    {
     "data": {
      "text/html": [
       "<div>\n",
       "<style scoped>\n",
       "    .dataframe tbody tr th:only-of-type {\n",
       "        vertical-align: middle;\n",
       "    }\n",
       "\n",
       "    .dataframe tbody tr th {\n",
       "        vertical-align: top;\n",
       "    }\n",
       "\n",
       "    .dataframe thead th {\n",
       "        text-align: right;\n",
       "    }\n",
       "</style>\n",
       "<table border=\"1\" class=\"dataframe\">\n",
       "  <thead>\n",
       "    <tr style=\"text-align: right;\">\n",
       "      <th></th>\n",
       "      <th>order_id</th>\n",
       "      <th>customer_id</th>\n",
       "      <th>total_price</th>\n",
       "      <th>age</th>\n",
       "    </tr>\n",
       "  </thead>\n",
       "  <tbody>\n",
       "    <tr>\n",
       "      <th>0</th>\n",
       "      <td>1037.0</td>\n",
       "      <td>981.0</td>\n",
       "      <td>193.460803</td>\n",
       "      <td>19.0</td>\n",
       "    </tr>\n",
       "    <tr>\n",
       "      <th>1</th>\n",
       "      <td>1027.0</td>\n",
       "      <td>940.0</td>\n",
       "      <td>680.986976</td>\n",
       "      <td>21.0</td>\n",
       "    </tr>\n",
       "    <tr>\n",
       "      <th>2</th>\n",
       "      <td>1039.0</td>\n",
       "      <td>123.0</td>\n",
       "      <td>952.906524</td>\n",
       "      <td>22.0</td>\n",
       "    </tr>\n",
       "    <tr>\n",
       "      <th>3</th>\n",
       "      <td>1043.0</td>\n",
       "      <td>860.0</td>\n",
       "      <td>545.791012</td>\n",
       "      <td>22.0</td>\n",
       "    </tr>\n",
       "    <tr>\n",
       "      <th>4</th>\n",
       "      <td>1046.0</td>\n",
       "      <td>316.0</td>\n",
       "      <td>887.003551</td>\n",
       "      <td>24.0</td>\n",
       "    </tr>\n",
       "  </tbody>\n",
       "</table>\n",
       "</div>"
      ],
      "text/plain": [
       "   order_id  customer_id  total_price   age\n",
       "0    1037.0        981.0   193.460803  19.0\n",
       "1    1027.0        940.0   680.986976  21.0\n",
       "2    1039.0        123.0   952.906524  22.0\n",
       "3    1043.0        860.0   545.791012  22.0\n",
       "4    1046.0        316.0   887.003551  24.0"
      ]
     },
     "execution_count": 9,
     "metadata": {},
     "output_type": "execute_result"
    }
   ],
   "source": [
    "orders_new_df = faldbt.ref(\"customer_orders\")\n",
    "\n",
    "orders_new_df.head()"
   ]
  },
  {
   "cell_type": "markdown",
   "id": "47319519",
   "metadata": {},
   "source": [
    "As we can see, `customer_orders` doesn't have the \"returned\" column. That's what we're trying to predict. We've put our model training code in `order_return_prediction_models` Python model. In this next cell, we download that model and pick the most accurate model."
   ]
  },
  {
   "cell_type": "code",
   "execution_count": 8,
   "id": "e84701ab",
   "metadata": {},
   "outputs": [],
   "source": [
    "models_df = faldbt.ref(\"order_return_prediction_models\")\n",
    "best_model_df = models_df[models_df.accuracy == models_df.accuracy.max()]\n",
    "model_name = best_model_df.model_name[0]"
   ]
  },
  {
   "cell_type": "markdown",
   "id": "0b01f0d2",
   "metadata": {},
   "source": [
    "In our example, the ML models are stored in the `ml_models` directory. In production, you'll want to use a cloud storage provider, such as S3 or GCS. But here we load the target ML model by simply openning the file."
   ]
  },
  {
   "cell_type": "code",
   "execution_count": 10,
   "id": "ab591df9",
   "metadata": {},
   "outputs": [],
   "source": [
    "with open(f\"../ml_models/{model_name}.pkl\", \"rb\") as f:\n",
    "    loaded_model = pickle.load(f)"
   ]
  },
  {
   "cell_type": "markdown",
   "id": "61e58a96",
   "metadata": {},
   "source": [
    "Finally, it's time to make some predictions:"
   ]
  },
  {
   "cell_type": "code",
   "execution_count": 11,
   "id": "5fbb1c4d",
   "metadata": {},
   "outputs": [],
   "source": [
    "predictions = loaded_model.predict(orders_new_df[[\"age\", \"total_price\"]])\n",
    "orders_new_df[\"predicted_return\"] = predictions"
   ]
  },
  {
   "cell_type": "markdown",
   "id": "44b55580",
   "metadata": {},
   "source": [
    "Let's plot our predictions, to see if they make sense:"
   ]
  },
  {
   "cell_type": "code",
   "execution_count": 16,
   "id": "e02abcdb",
   "metadata": {},
   "outputs": [
    {
     "data": {
      "image/png": "[encoded data removed]",
      "text/plain": [
       "<Figure size 640x480 with 1 Axes>"
      ]
     },
     "metadata": {},
     "output_type": "display_data"
    }
   ],
   "source": [
    "# Sample data for plot\n",
    "plot_data = orders_new_df.sample(frac=0.5, random_state=123)\n",
    "\n",
    "colors = ['red' if r else 'blue' for r in plot_data['predicted_return']]\n",
    "plt.scatter(plot_data['age'], plot_data['total_price'], c=colors)\n",
    "plt.xlabel('Age')\n",
    "plt.ylabel('Total Price')\n",
    "plt.show()"
   ]
  },
  {
   "cell_type": "markdown",
   "id": "c29d42c7",
   "metadata": {},
   "source": [
    "That seems about right!\n",
    "\n",
    "For more information about this example, see our [blog post](blog.fal.ai) (FIX THIS LINK) that gives you a detailed walk through of both this notebook and then incorporating it's contents inside dbt Python models."
   ]
  }
 ],
 "metadata": {
  "kernelspec": {
   "display_name": "Python 3 (ipykernel)",
   "language": "python",
   "name": "python3"
  },
  "language_info": {
   "codemirror_mode": {
    "name": "ipython",
    "version": 3
   },
   "file_extension": ".py",
   "mimetype": "text/x-python",
   "name": "python",
   "nbconvert_exporter": "python",
   "pygments_lexer": "ipython3",
   "version": "3.10.8"
  }
 },
 "nbformat": 4,
 "nbformat_minor": 5
}
