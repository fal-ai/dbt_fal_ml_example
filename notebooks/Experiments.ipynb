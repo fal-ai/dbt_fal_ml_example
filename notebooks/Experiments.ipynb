{
 "cells": [
  {
   "cell_type": "markdown",
   "id": "37a53203",
   "metadata": {},
   "source": [
    "# Training a simple linear regression model with dbt and fal"
   ]
  },
  {
   "cell_type": "markdown",
   "id": "be2fd420",
   "metadata": {},
   "source": []
  },
  {
   "cell_type": "code",
   "execution_count": 124,
   "id": "c2c141b1",
   "metadata": {},
   "outputs": [
    {
     "name": "stdout",
     "output_type": "stream",
     "text": [
      "\u001b[0m12:35:30  Running with dbt=1.4.4\n",
      "\u001b[0m12:35:30  Found 2 models, 0 tests, 0 snapshots, 0 analyses, 341 macros, 0 operations, 2 seed files, 0 sources, 0 exposures, 0 metrics\n",
      "\u001b[0m12:35:30  \n",
      "\u001b[0m12:35:31  Concurrency: 1 threads (target='staging')\n",
      "\u001b[0m12:35:31  \n",
      "\u001b[0m12:35:31  1 of 2 START seed file dbt_meder.raw_customer_order_data ....................... [RUN]\n",
      "\u001b[0m12:35:37  1 of 2 OK loaded seed file dbt_meder.raw_customer_order_data ................... [\u001b[32mINSERT 50\u001b[0m in 5.39s]\n",
      "\u001b[0m12:35:37  2 of 2 START seed file dbt_meder.raw_customer_order_data_labeled ............... [RUN]\n",
      "\u001b[0m12:35:55  2 of 2 OK loaded seed file dbt_meder.raw_customer_order_data_labeled ........... [\u001b[32mINSERT 1000\u001b[0m in 18.58s]\n",
      "\u001b[0m12:35:55  \n",
      "\u001b[0m12:35:55  Finished running 2 seeds in 0 hours 0 minutes and 24.96 seconds (24.96s).\n",
      "\u001b[0m12:35:55  \n",
      "\u001b[0m12:35:55  \u001b[32mCompleted successfully\u001b[0m\n",
      "\u001b[0m12:35:55  \n",
      "\u001b[0m12:35:55  Done. PASS=2 WARN=0 ERROR=0 SKIP=0 TOTAL=2\n"
     ]
    }
   ],
   "source": [
    "!dbt seed --profiles-dir .."
   ]
  },
  {
   "cell_type": "code",
   "execution_count": 18,
   "id": "ae1e1da6",
   "metadata": {},
   "outputs": [],
   "source": [
    "!dbt run -s customer_orders customer_orders_labeled --profiles-dir .."
   ]
  },
  {
   "cell_type": "code",
   "execution_count": 4,
   "id": "5e3b2a9b",
   "metadata": {},
   "outputs": [],
   "source": [
    "from fal import FalDbt\n",
    "import matplotlib.pyplot as plt"
   ]
  },
  {
   "cell_type": "code",
   "execution_count": 19,
   "id": "b2d64bd9",
   "metadata": {},
   "outputs": [],
   "source": [
    "faldbt = FalDbt(\"..\", \"..\")"
   ]
  },
  {
   "cell_type": "code",
   "execution_count": 10,
   "id": "8ec5ab3f",
   "metadata": {},
   "outputs": [
    {
     "data": {
      "text/html": [
       "<div>\n",
       "<style scoped>\n",
       "    .dataframe tbody tr th:only-of-type {\n",
       "        vertical-align: middle;\n",
       "    }\n",
       "\n",
       "    .dataframe tbody tr th {\n",
       "        vertical-align: top;\n",
       "    }\n",
       "\n",
       "    .dataframe thead th {\n",
       "        text-align: right;\n",
       "    }\n",
       "</style>\n",
       "<table border=\"1\" class=\"dataframe\">\n",
       "  <thead>\n",
       "    <tr style=\"text-align: right;\">\n",
       "      <th></th>\n",
       "      <th>order_id</th>\n",
       "      <th>customer_id</th>\n",
       "      <th>total_price</th>\n",
       "      <th>age</th>\n",
       "      <th>return</th>\n",
       "    </tr>\n",
       "  </thead>\n",
       "  <tbody>\n",
       "    <tr>\n",
       "      <th>0</th>\n",
       "      <td>210.0</td>\n",
       "      <td>488.0</td>\n",
       "      <td>187.861698</td>\n",
       "      <td>18.0</td>\n",
       "      <td>0.0</td>\n",
       "    </tr>\n",
       "    <tr>\n",
       "      <th>1</th>\n",
       "      <td>263.0</td>\n",
       "      <td>578.0</td>\n",
       "      <td>628.745330</td>\n",
       "      <td>18.0</td>\n",
       "      <td>0.0</td>\n",
       "    </tr>\n",
       "    <tr>\n",
       "      <th>2</th>\n",
       "      <td>360.0</td>\n",
       "      <td>578.0</td>\n",
       "      <td>99.154886</td>\n",
       "      <td>18.0</td>\n",
       "      <td>0.0</td>\n",
       "    </tr>\n",
       "    <tr>\n",
       "      <th>3</th>\n",
       "      <td>482.0</td>\n",
       "      <td>818.0</td>\n",
       "      <td>393.284591</td>\n",
       "      <td>18.0</td>\n",
       "      <td>0.0</td>\n",
       "    </tr>\n",
       "    <tr>\n",
       "      <th>4</th>\n",
       "      <td>594.0</td>\n",
       "      <td>656.0</td>\n",
       "      <td>339.542104</td>\n",
       "      <td>18.0</td>\n",
       "      <td>0.0</td>\n",
       "    </tr>\n",
       "  </tbody>\n",
       "</table>\n",
       "</div>"
      ],
      "text/plain": [
       "   order_id  customer_id  total_price   age  return\n",
       "0     210.0        488.0   187.861698  18.0     0.0\n",
       "1     263.0        578.0   628.745330  18.0     0.0\n",
       "2     360.0        578.0    99.154886  18.0     0.0\n",
       "3     482.0        818.0   393.284591  18.0     0.0\n",
       "4     594.0        656.0   339.542104  18.0     0.0"
      ]
     },
     "execution_count": 10,
     "metadata": {},
     "output_type": "execute_result"
    }
   ],
   "source": [
    "orders_df = faldbt.ref(\"customer_orders_labeled\")\n",
    "orders_df.head()"
   ]
  },
  {
   "cell_type": "code",
   "execution_count": 9,
   "id": "3bbe196a",
   "metadata": {},
   "outputs": [
    {
     "name": "stdout",
     "output_type": "stream",
     "text": [
      "Summary statistics:\n",
      "           order_id  customer_id  total_price         age       return\n",
      "count  1000.000000   1000.00000  1000.000000  1000.00000  1000.000000\n",
      "mean    499.500000    499.19500   508.766031    41.72000     0.203000\n",
      "std     288.819436    284.65704   289.078945    13.44933     0.402434\n",
      "min       0.000000      0.00000    12.121936    18.00000     0.000000\n",
      "25%     249.750000    251.00000   252.136277    31.00000     0.000000\n",
      "50%     499.500000    495.50000   499.654528    43.00000     0.000000\n",
      "75%     749.250000    740.00000   764.379751    53.00000     0.000000\n",
      "max     999.000000    999.00000   998.200204    64.00000     1.000000\n"
     ]
    }
   ],
   "source": [
    "print('Summary statistics:\\n', orders_df.describe())"
   ]
  },
  {
   "cell_type": "code",
   "execution_count": 112,
   "id": "b738cf0c",
   "metadata": {},
   "outputs": [
    {
     "data": {
      "image/png": "[encoded data removed]",
      "text/plain": [
       "<Figure size 640x480 with 1 Axes>"
      ]
     },
     "metadata": {},
     "output_type": "display_data"
    }
   ],
   "source": [
    "# Sample data for plot\n",
    "plot_data = orders_df.sample(frac=0.1, random_state=123)\n",
    "\n",
    "colors = ['red' if r else 'blue' for r in plot_data['return']]  # assign colors based on whether or not order was returned\n",
    "\n",
    "plt.scatter(plot_data['age'], plot_data['total_price'], c=colors)\n",
    "plt.xlabel('Age')\n",
    "plt.ylabel('Total Price')\n",
    "plt.show()"
   ]
  },
  {
   "cell_type": "code",
   "execution_count": 11,
   "id": "175a873c",
   "metadata": {},
   "outputs": [
    {
     "name": "stdout",
     "output_type": "stream",
     "text": [
      "              precision    recall  f1-score   support\n",
      "\n",
      "         0.0       0.87      0.97      0.91       227\n",
      "         1.0       0.85      0.53      0.66        73\n",
      "\n",
      "    accuracy                           0.86       300\n",
      "   macro avg       0.86      0.75      0.79       300\n",
      "weighted avg       0.86      0.86      0.85       300\n",
      "\n"
     ]
    }
   ],
   "source": [
    "from sklearn.linear_model import LogisticRegression\n",
    "from sklearn.model_selection import train_test_split\n",
    "from sklearn.metrics import classification_report\n",
    "\n",
    "# Train logistic regression model\n",
    "X = orders_df[['age', 'total_price']]\n",
    "y = orders_df['return']\n",
    "X_train, X_test, y_train, y_test = train_test_split(X, y, test_size=0.3, random_state=123)\n",
    "\n",
    "lr_model = LogisticRegression(random_state=123)\n",
    "lr_model.fit(X_train, y_train)\n",
    "\n",
    "# Test model\n",
    "y_pred = lr_model.predict(X_test)\n",
    "print(classification_report(y_test, y_pred))\n"
   ]
  },
  {
   "cell_type": "code",
   "execution_count": 32,
   "id": "1713904f",
   "metadata": {},
   "outputs": [],
   "source": [
    "orders_new_df = faldbt.ref(\"customer_orders\")"
   ]
  },
  {
   "cell_type": "code",
   "execution_count": 118,
   "id": "e81c0ca3",
   "metadata": {},
   "outputs": [
    {
     "data": {
      "text/html": [
       "<div>\n",
       "<style scoped>\n",
       "    .dataframe tbody tr th:only-of-type {\n",
       "        vertical-align: middle;\n",
       "    }\n",
       "\n",
       "    .dataframe tbody tr th {\n",
       "        vertical-align: top;\n",
       "    }\n",
       "\n",
       "    .dataframe thead th {\n",
       "        text-align: right;\n",
       "    }\n",
       "</style>\n",
       "<table border=\"1\" class=\"dataframe\">\n",
       "  <thead>\n",
       "    <tr style=\"text-align: right;\">\n",
       "      <th></th>\n",
       "      <th>order_id</th>\n",
       "      <th>customer_id</th>\n",
       "      <th>total_price</th>\n",
       "      <th>age</th>\n",
       "    </tr>\n",
       "  </thead>\n",
       "  <tbody>\n",
       "    <tr>\n",
       "      <th>0</th>\n",
       "      <td>1037.0</td>\n",
       "      <td>981.0</td>\n",
       "      <td>193.460803</td>\n",
       "      <td>19.0</td>\n",
       "    </tr>\n",
       "    <tr>\n",
       "      <th>1</th>\n",
       "      <td>1027.0</td>\n",
       "      <td>940.0</td>\n",
       "      <td>680.986976</td>\n",
       "      <td>21.0</td>\n",
       "    </tr>\n",
       "    <tr>\n",
       "      <th>2</th>\n",
       "      <td>1039.0</td>\n",
       "      <td>123.0</td>\n",
       "      <td>952.906524</td>\n",
       "      <td>22.0</td>\n",
       "    </tr>\n",
       "    <tr>\n",
       "      <th>3</th>\n",
       "      <td>1043.0</td>\n",
       "      <td>860.0</td>\n",
       "      <td>545.791012</td>\n",
       "      <td>22.0</td>\n",
       "    </tr>\n",
       "    <tr>\n",
       "      <th>4</th>\n",
       "      <td>1046.0</td>\n",
       "      <td>316.0</td>\n",
       "      <td>887.003551</td>\n",
       "      <td>24.0</td>\n",
       "    </tr>\n",
       "  </tbody>\n",
       "</table>\n",
       "</div>"
      ],
      "text/plain": [
       "   order_id  customer_id  total_price   age\n",
       "0    1037.0        981.0   193.460803  19.0\n",
       "1    1027.0        940.0   680.986976  21.0\n",
       "2    1039.0        123.0   952.906524  22.0\n",
       "3    1043.0        860.0   545.791012  22.0\n",
       "4    1046.0        316.0   887.003551  24.0"
      ]
     },
     "execution_count": 118,
     "metadata": {},
     "output_type": "execute_result"
    }
   ],
   "source": [
    "orders_new_df.head()"
   ]
  },
  {
   "cell_type": "code",
   "execution_count": null,
   "id": "e84701ab",
   "metadata": {},
   "outputs": [],
   "source": [
    "models_df = faldbt.ref(\"order_return_prediction_models\")\n",
    "best_model_df = models_df[models_df.accuracy == models_df.accuracy.max()]\n",
    "model_name = best_model_df.model_name[0]"
   ]
  },
  {
   "cell_type": "code",
   "execution_count": 30,
   "id": "ab591df9",
   "metadata": {},
   "outputs": [],
   "source": [
    "import pickle\n",
    "with open(f\"../ml_models/{model_name}.pkl\", \"rb\") as f:\n",
    "    loaded_model = pickle.load(f)"
   ]
  },
  {
   "cell_type": "code",
   "execution_count": 33,
   "id": "5fbb1c4d",
   "metadata": {},
   "outputs": [],
   "source": [
    "predictions = loaded_model.predict(orders_new_df[[\"age\", \"total_price\"]])\n",
    "orders_new_df[\"predicted_return\"] = predictions"
   ]
  },
  {
   "cell_type": "code",
   "execution_count": 35,
   "id": "0e94ef5b",
   "metadata": {},
   "outputs": [
    {
     "data": {
      "text/html": [
       "<div>\n",
       "<style scoped>\n",
       "    .dataframe tbody tr th:only-of-type {\n",
       "        vertical-align: middle;\n",
       "    }\n",
       "\n",
       "    .dataframe tbody tr th {\n",
       "        vertical-align: top;\n",
       "    }\n",
       "\n",
       "    .dataframe thead th {\n",
       "        text-align: right;\n",
       "    }\n",
       "</style>\n",
       "<table border=\"1\" class=\"dataframe\">\n",
       "  <thead>\n",
       "    <tr style=\"text-align: right;\">\n",
       "      <th></th>\n",
       "      <th>order_id</th>\n",
       "      <th>customer_id</th>\n",
       "      <th>total_price</th>\n",
       "      <th>age</th>\n",
       "      <th>predicted_return</th>\n",
       "    </tr>\n",
       "  </thead>\n",
       "  <tbody>\n",
       "    <tr>\n",
       "      <th>0</th>\n",
       "      <td>1037.0</td>\n",
       "      <td>981.0</td>\n",
       "      <td>193.460803</td>\n",
       "      <td>19.0</td>\n",
       "      <td>0.0</td>\n",
       "    </tr>\n",
       "    <tr>\n",
       "      <th>1</th>\n",
       "      <td>1027.0</td>\n",
       "      <td>940.0</td>\n",
       "      <td>680.986976</td>\n",
       "      <td>21.0</td>\n",
       "      <td>1.0</td>\n",
       "    </tr>\n",
       "    <tr>\n",
       "      <th>2</th>\n",
       "      <td>1039.0</td>\n",
       "      <td>123.0</td>\n",
       "      <td>952.906524</td>\n",
       "      <td>22.0</td>\n",
       "      <td>1.0</td>\n",
       "    </tr>\n",
       "    <tr>\n",
       "      <th>3</th>\n",
       "      <td>1043.0</td>\n",
       "      <td>860.0</td>\n",
       "      <td>545.791012</td>\n",
       "      <td>22.0</td>\n",
       "      <td>1.0</td>\n",
       "    </tr>\n",
       "    <tr>\n",
       "      <th>4</th>\n",
       "      <td>1046.0</td>\n",
       "      <td>316.0</td>\n",
       "      <td>887.003551</td>\n",
       "      <td>24.0</td>\n",
       "      <td>1.0</td>\n",
       "    </tr>\n",
       "  </tbody>\n",
       "</table>\n",
       "</div>"
      ],
      "text/plain": [
       "   order_id  customer_id  total_price   age  predicted_return\n",
       "0    1037.0        981.0   193.460803  19.0               0.0\n",
       "1    1027.0        940.0   680.986976  21.0               1.0\n",
       "2    1039.0        123.0   952.906524  22.0               1.0\n",
       "3    1043.0        860.0   545.791012  22.0               1.0\n",
       "4    1046.0        316.0   887.003551  24.0               1.0"
      ]
     },
     "execution_count": 35,
     "metadata": {},
     "output_type": "execute_result"
    }
   ],
   "source": [
    "orders_new_df.head()"
   ]
  }
 ],
 "metadata": {
  "kernelspec": {
   "display_name": "Python 3 (ipykernel)",
   "language": "python",
   "name": "python3"
  },
  "language_info": {
   "codemirror_mode": {
    "name": "ipython",
    "version": 3
   },
   "file_extension": ".py",
   "mimetype": "text/x-python",
   "name": "python",
   "nbconvert_exporter": "python",
   "pygments_lexer": "ipython3",
   "version": "3.10.8"
  }
 },
 "nbformat": 4,
 "nbformat_minor": 5
}
